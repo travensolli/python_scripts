{
  "nbformat": 4,
  "nbformat_minor": 0,
  "metadata": {
    "colab": {
      "provenance": [],
      "authorship_tag": "ABX9TyME5IAXCxq2gawRMnGOFH/i",
      "include_colab_link": true
    },
    "kernelspec": {
      "name": "python3",
      "display_name": "Python 3"
    },
    "language_info": {
      "name": "python"
    }
  },
  "cells": [
    {
      "cell_type": "markdown",
      "metadata": {
        "id": "view-in-github",
        "colab_type": "text"
      },
      "source": [
        "<a href=\"https://colab.research.google.com/github/travensolli/python_scripts/blob/main/separa_planilhas_categoria_unica.ipynb\" target=\"_parent\"><img src=\"https://colab.research.google.com/assets/colab-badge.svg\" alt=\"Open In Colab\"/></a>"
      ]
    },
    {
      "cell_type": "code",
      "source": [
        "# Instala e importa bibliotecas para auxiliar para retirada de acentos e caracter especial de string\n",
        "!pip install unidecode -q\n",
        "from unidecode import unidecode \n",
        "import re\n",
        "\n",
        "# Importa biblioteca Pandas\n",
        "import pandas as pd"
      ],
      "metadata": {
        "id": "wD6Zvn7048x5"
      },
      "execution_count": null,
      "outputs": []
    },
    {
      "cell_type": "code",
      "execution_count": null,
      "metadata": {
        "id": "S97ENAZ447TY"
      },
      "outputs": [],
      "source": [
        "# Carrega o arquivo excel em um DataFrame do pandas\n",
        "df = pd.read_excel('planilha base.xlsx')\n",
        "\n",
        "# Obtém todos os registros únicos na coluna desejada\n",
        "unicos = df['COLUNA DESEJADA'].unique()\n",
        "\n",
        "# Itera sobre os registros únicos e cria uma planilha separada para cada um\n",
        "for unico in unicos:\n",
        "    # Filtra o DataFrame pelo nome atual\n",
        "    df_filtrado = df[df['COLUNA DESEJADA'] == unico]\n",
        "\n",
        "    # Remove acentos\n",
        "    unico_sem_acentos = unidecode(unico)    \n",
        "    # Remove caracteres especiais\n",
        "    unico_sem_caracteres_especiais = re.sub(r'[^\\w\\s]', '', unico_sem_acentos)\n",
        "\n",
        "    # Salva o DataFrame filtrado em um arquivo Excel com o nome correspondente\n",
        "    nome_arquivo = f'{unico_sem_caracteres_especiais}.xlsx'\n",
        "    df_filtrado.to_excel(nome_arquivo, index=False)"
      ]
    }
  ]
}